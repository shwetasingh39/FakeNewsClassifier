{
 "cells": [
  {
   "cell_type": "code",
   "execution_count": 3,
   "id": "041e989d",
   "metadata": {},
   "outputs": [],
   "source": [
    "import pandas as pd\n",
    "import numpy as np\n",
    "import matplotlib.pyplot as plt\n",
    "import seaborn as sns"
   ]
  },
  {
   "cell_type": "code",
   "execution_count": 4,
   "id": "69cbeb60",
   "metadata": {},
   "outputs": [],
   "source": [
    "true_df=pd.read_csv(r\"C:\\Shweta\\Kaggle Notebooks\\Naive Bayes Fake News Classifier\\True.csv\")\n",
    "fake_df=pd.read_csv(r\"C:\\Shweta\\Kaggle Notebooks\\Naive Bayes Fake News Classifier\\Fake.csv\")"
   ]
  },
  {
   "cell_type": "code",
   "execution_count": 5,
   "id": "e8370816",
   "metadata": {},
   "outputs": [
    {
     "data": {
      "text/html": [
       "<div>\n",
       "<style scoped>\n",
       "    .dataframe tbody tr th:only-of-type {\n",
       "        vertical-align: middle;\n",
       "    }\n",
       "\n",
       "    .dataframe tbody tr th {\n",
       "        vertical-align: top;\n",
       "    }\n",
       "\n",
       "    .dataframe thead th {\n",
       "        text-align: right;\n",
       "    }\n",
       "</style>\n",
       "<table border=\"1\" class=\"dataframe\">\n",
       "  <thead>\n",
       "    <tr style=\"text-align: right;\">\n",
       "      <th></th>\n",
       "      <th>title</th>\n",
       "      <th>text</th>\n",
       "      <th>subject</th>\n",
       "      <th>date</th>\n",
       "    </tr>\n",
       "  </thead>\n",
       "  <tbody>\n",
       "    <tr>\n",
       "      <th>0</th>\n",
       "      <td>As U.S. budget fight looms, Republicans flip t...</td>\n",
       "      <td>WASHINGTON (Reuters) - The head of a conservat...</td>\n",
       "      <td>politicsNews</td>\n",
       "      <td>December 31, 2017</td>\n",
       "    </tr>\n",
       "    <tr>\n",
       "      <th>1</th>\n",
       "      <td>U.S. military to accept transgender recruits o...</td>\n",
       "      <td>WASHINGTON (Reuters) - Transgender people will...</td>\n",
       "      <td>politicsNews</td>\n",
       "      <td>December 29, 2017</td>\n",
       "    </tr>\n",
       "  </tbody>\n",
       "</table>\n",
       "</div>"
      ],
      "text/plain": [
       "                                               title  \\\n",
       "0  As U.S. budget fight looms, Republicans flip t...   \n",
       "1  U.S. military to accept transgender recruits o...   \n",
       "\n",
       "                                                text       subject  \\\n",
       "0  WASHINGTON (Reuters) - The head of a conservat...  politicsNews   \n",
       "1  WASHINGTON (Reuters) - Transgender people will...  politicsNews   \n",
       "\n",
       "                 date  \n",
       "0  December 31, 2017   \n",
       "1  December 29, 2017   "
      ]
     },
     "execution_count": 5,
     "metadata": {},
     "output_type": "execute_result"
    }
   ],
   "source": [
    "true_df.head(2)"
   ]
  },
  {
   "cell_type": "code",
   "execution_count": 6,
   "id": "a571b29d",
   "metadata": {},
   "outputs": [
    {
     "data": {
      "text/html": [
       "<div>\n",
       "<style scoped>\n",
       "    .dataframe tbody tr th:only-of-type {\n",
       "        vertical-align: middle;\n",
       "    }\n",
       "\n",
       "    .dataframe tbody tr th {\n",
       "        vertical-align: top;\n",
       "    }\n",
       "\n",
       "    .dataframe thead th {\n",
       "        text-align: right;\n",
       "    }\n",
       "</style>\n",
       "<table border=\"1\" class=\"dataframe\">\n",
       "  <thead>\n",
       "    <tr style=\"text-align: right;\">\n",
       "      <th></th>\n",
       "      <th>title</th>\n",
       "      <th>text</th>\n",
       "      <th>subject</th>\n",
       "      <th>date</th>\n",
       "    </tr>\n",
       "  </thead>\n",
       "  <tbody>\n",
       "    <tr>\n",
       "      <th>0</th>\n",
       "      <td>Donald Trump Sends Out Embarrassing New Year’...</td>\n",
       "      <td>Donald Trump just couldn t wish all Americans ...</td>\n",
       "      <td>News</td>\n",
       "      <td>December 31, 2017</td>\n",
       "    </tr>\n",
       "    <tr>\n",
       "      <th>1</th>\n",
       "      <td>Drunk Bragging Trump Staffer Started Russian ...</td>\n",
       "      <td>House Intelligence Committee Chairman Devin Nu...</td>\n",
       "      <td>News</td>\n",
       "      <td>December 31, 2017</td>\n",
       "    </tr>\n",
       "  </tbody>\n",
       "</table>\n",
       "</div>"
      ],
      "text/plain": [
       "                                               title  \\\n",
       "0   Donald Trump Sends Out Embarrassing New Year’...   \n",
       "1   Drunk Bragging Trump Staffer Started Russian ...   \n",
       "\n",
       "                                                text subject  \\\n",
       "0  Donald Trump just couldn t wish all Americans ...    News   \n",
       "1  House Intelligence Committee Chairman Devin Nu...    News   \n",
       "\n",
       "                date  \n",
       "0  December 31, 2017  \n",
       "1  December 31, 2017  "
      ]
     },
     "execution_count": 6,
     "metadata": {},
     "output_type": "execute_result"
    }
   ],
   "source": [
    "fake_df.head(2)"
   ]
  },
  {
   "cell_type": "code",
   "execution_count": 7,
   "id": "01fc9634",
   "metadata": {},
   "outputs": [
    {
     "name": "stdout",
     "output_type": "stream",
     "text": [
      "<class 'pandas.core.frame.DataFrame'>\n",
      "RangeIndex: 21417 entries, 0 to 21416\n",
      "Data columns (total 4 columns):\n",
      " #   Column   Non-Null Count  Dtype \n",
      "---  ------   --------------  ----- \n",
      " 0   title    21417 non-null  object\n",
      " 1   text     21417 non-null  object\n",
      " 2   subject  21417 non-null  object\n",
      " 3   date     21417 non-null  object\n",
      "dtypes: object(4)\n",
      "memory usage: 669.4+ KB\n"
     ]
    }
   ],
   "source": [
    "true_df.info()"
   ]
  },
  {
   "cell_type": "code",
   "execution_count": 8,
   "id": "b60be646",
   "metadata": {},
   "outputs": [
    {
     "name": "stdout",
     "output_type": "stream",
     "text": [
      "<class 'pandas.core.frame.DataFrame'>\n",
      "RangeIndex: 23481 entries, 0 to 23480\n",
      "Data columns (total 4 columns):\n",
      " #   Column   Non-Null Count  Dtype \n",
      "---  ------   --------------  ----- \n",
      " 0   title    23481 non-null  object\n",
      " 1   text     23481 non-null  object\n",
      " 2   subject  23481 non-null  object\n",
      " 3   date     23481 non-null  object\n",
      "dtypes: object(4)\n",
      "memory usage: 733.9+ KB\n"
     ]
    }
   ],
   "source": [
    "fake_df.info()"
   ]
  },
  {
   "cell_type": "code",
   "execution_count": 9,
   "id": "4881f1f7",
   "metadata": {},
   "outputs": [
    {
     "name": "stdout",
     "output_type": "stream",
     "text": [
      "Missing Values in true data: \n",
      "title      0\n",
      "text       0\n",
      "subject    0\n",
      "date       0\n",
      "dtype: int64\n",
      "Missing Values in fake data: \n",
      "title      0\n",
      "text       0\n",
      "subject    0\n",
      "date       0\n",
      "dtype: int64\n"
     ]
    }
   ],
   "source": [
    "print(f\"Missing Values in true data: \\n{true_df.isna().sum()}\")\n",
    "print(f\"Missing Values in fake data: \\n{fake_df.isna().sum()}\")"
   ]
  },
  {
   "cell_type": "code",
   "execution_count": 10,
   "id": "80da9082",
   "metadata": {},
   "outputs": [
    {
     "name": "stdout",
     "output_type": "stream",
     "text": [
      "Duplicate Values in true data: \n",
      "206\n",
      "Duplicate Values in fake data: \n",
      "3\n"
     ]
    }
   ],
   "source": [
    "print(f\"Duplicate Values in true data: \\n{true_df.duplicated().sum()}\")\n",
    "print(f\"Duplicate Values in fake data: \\n{fake_df.duplicated().sum()}\")"
   ]
  },
  {
   "cell_type": "code",
   "execution_count": 11,
   "id": "5128c2d0",
   "metadata": {},
   "outputs": [],
   "source": [
    "# Dropping the duplicates in both datasets\n",
    "true_df.drop_duplicates(keep=\"last\",inplace=True)\n",
    "fake_df.drop_duplicates(keep=\"last\",inplace=True)"
   ]
  },
  {
   "cell_type": "code",
   "execution_count": 12,
   "id": "9c59689f",
   "metadata": {},
   "outputs": [
    {
     "name": "stdout",
     "output_type": "stream",
     "text": [
      "Duplicate Values in true data: \n",
      "0\n",
      "Duplicate Values in fake data: \n",
      "0\n"
     ]
    }
   ],
   "source": [
    "print(f\"Duplicate Values in true data: \\n{true_df.duplicated().sum()}\")\n",
    "print(f\"Duplicate Values in fake data: \\n{fake_df.duplicated().sum()}\")"
   ]
  },
  {
   "cell_type": "markdown",
   "id": "a4c3cd2b",
   "metadata": {},
   "source": [
    "Let us add the column 'label' to classify the news as True and Fake.Further, merge the two dataframes for further analysis and modelling"
   ]
  },
  {
   "cell_type": "code",
   "execution_count": 13,
   "id": "a926034a",
   "metadata": {},
   "outputs": [],
   "source": [
    "true_df['label']='true'\n",
    "fake_df['label']='fake'"
   ]
  },
  {
   "cell_type": "code",
   "execution_count": 14,
   "id": "019964d2",
   "metadata": {},
   "outputs": [],
   "source": [
    "final_df=pd.concat([true_df,fake_df],axis=0,ignore_index=True)"
   ]
  },
  {
   "cell_type": "code",
   "execution_count": 15,
   "id": "b9172444",
   "metadata": {},
   "outputs": [],
   "source": [
    "# removing the duplicates if any\n",
    "final_df.drop_duplicates(inplace=True)\n",
    "# shuffling the records to get a random mix of records in training and testing datasets\n",
    "final_df = final_df.sample(frac=1).reset_index(drop=True)"
   ]
  },
  {
   "cell_type": "code",
   "execution_count": 16,
   "id": "09b11880",
   "metadata": {},
   "outputs": [
    {
     "data": {
      "text/html": [
       "<div>\n",
       "<style scoped>\n",
       "    .dataframe tbody tr th:only-of-type {\n",
       "        vertical-align: middle;\n",
       "    }\n",
       "\n",
       "    .dataframe tbody tr th {\n",
       "        vertical-align: top;\n",
       "    }\n",
       "\n",
       "    .dataframe thead th {\n",
       "        text-align: right;\n",
       "    }\n",
       "</style>\n",
       "<table border=\"1\" class=\"dataframe\">\n",
       "  <thead>\n",
       "    <tr style=\"text-align: right;\">\n",
       "      <th></th>\n",
       "      <th>title</th>\n",
       "      <th>text</th>\n",
       "      <th>subject</th>\n",
       "      <th>date</th>\n",
       "      <th>label</th>\n",
       "    </tr>\n",
       "  </thead>\n",
       "  <tbody>\n",
       "    <tr>\n",
       "      <th>0</th>\n",
       "      <td>Conservative Christians Think Girls Are A Cro...</td>\n",
       "      <td>Likening girls to common crops that should be ...</td>\n",
       "      <td>News</td>\n",
       "      <td>February 15, 2016</td>\n",
       "      <td>fake</td>\n",
       "    </tr>\n",
       "    <tr>\n",
       "      <th>1</th>\n",
       "      <td>Obama’s Response To 8-Year-Old Girl In Flint ...</td>\n",
       "      <td>Yesterday, an eight-year-old girl from Flint, ...</td>\n",
       "      <td>News</td>\n",
       "      <td>April 28, 2016</td>\n",
       "      <td>fake</td>\n",
       "    </tr>\n",
       "    <tr>\n",
       "      <th>2</th>\n",
       "      <td>VIOLENT LEFT EXPOSED: Anti-Trump Latino Sprays...</td>\n",
       "      <td>This is what it looks like when the  tolerant ...</td>\n",
       "      <td>left-news</td>\n",
       "      <td>Apr 27, 2016</td>\n",
       "      <td>fake</td>\n",
       "    </tr>\n",
       "    <tr>\n",
       "      <th>3</th>\n",
       "      <td>Twitter LAYS INTO GOP Leaders Over Amazingly ...</td>\n",
       "      <td>When Khizr Khan took the stage at the DNC to g...</td>\n",
       "      <td>News</td>\n",
       "      <td>July 31, 2016</td>\n",
       "      <td>fake</td>\n",
       "    </tr>\n",
       "    <tr>\n",
       "      <th>4</th>\n",
       "      <td>Hungary calls EU court's refugee ruling 'appal...</td>\n",
       "      <td>BUDAPEST (Reuters) - Hungary said on Wednesday...</td>\n",
       "      <td>worldnews</td>\n",
       "      <td>September 6, 2017</td>\n",
       "      <td>true</td>\n",
       "    </tr>\n",
       "  </tbody>\n",
       "</table>\n",
       "</div>"
      ],
      "text/plain": [
       "                                               title  \\\n",
       "0   Conservative Christians Think Girls Are A Cro...   \n",
       "1   Obama’s Response To 8-Year-Old Girl In Flint ...   \n",
       "2  VIOLENT LEFT EXPOSED: Anti-Trump Latino Sprays...   \n",
       "3   Twitter LAYS INTO GOP Leaders Over Amazingly ...   \n",
       "4  Hungary calls EU court's refugee ruling 'appal...   \n",
       "\n",
       "                                                text    subject  \\\n",
       "0  Likening girls to common crops that should be ...       News   \n",
       "1  Yesterday, an eight-year-old girl from Flint, ...       News   \n",
       "2  This is what it looks like when the  tolerant ...  left-news   \n",
       "3  When Khizr Khan took the stage at the DNC to g...       News   \n",
       "4  BUDAPEST (Reuters) - Hungary said on Wednesday...  worldnews   \n",
       "\n",
       "                 date label  \n",
       "0   February 15, 2016  fake  \n",
       "1      April 28, 2016  fake  \n",
       "2        Apr 27, 2016  fake  \n",
       "3       July 31, 2016  fake  \n",
       "4  September 6, 2017   true  "
      ]
     },
     "execution_count": 16,
     "metadata": {},
     "output_type": "execute_result"
    }
   ],
   "source": [
    "final_df.head()"
   ]
  },
  {
   "cell_type": "code",
   "execution_count": 17,
   "id": "76f32f39",
   "metadata": {},
   "outputs": [
    {
     "name": "stdout",
     "output_type": "stream",
     "text": [
      "<class 'pandas.core.frame.DataFrame'>\n",
      "RangeIndex: 44689 entries, 0 to 44688\n",
      "Data columns (total 5 columns):\n",
      " #   Column   Non-Null Count  Dtype \n",
      "---  ------   --------------  ----- \n",
      " 0   title    44689 non-null  object\n",
      " 1   text     44689 non-null  object\n",
      " 2   subject  44689 non-null  object\n",
      " 3   date     44689 non-null  object\n",
      " 4   label    44689 non-null  object\n",
      "dtypes: object(5)\n",
      "memory usage: 1.7+ MB\n"
     ]
    }
   ],
   "source": [
    "final_df.info()"
   ]
  },
  {
   "cell_type": "code",
   "execution_count": 18,
   "id": "716952b3",
   "metadata": {},
   "outputs": [
    {
     "data": {
      "text/html": [
       "<div>\n",
       "<style scoped>\n",
       "    .dataframe tbody tr th:only-of-type {\n",
       "        vertical-align: middle;\n",
       "    }\n",
       "\n",
       "    .dataframe tbody tr th {\n",
       "        vertical-align: top;\n",
       "    }\n",
       "\n",
       "    .dataframe thead th {\n",
       "        text-align: right;\n",
       "    }\n",
       "</style>\n",
       "<table border=\"1\" class=\"dataframe\">\n",
       "  <thead>\n",
       "    <tr style=\"text-align: right;\">\n",
       "      <th></th>\n",
       "      <th>title</th>\n",
       "      <th>text</th>\n",
       "      <th>subject</th>\n",
       "      <th>date</th>\n",
       "      <th>label</th>\n",
       "    </tr>\n",
       "  </thead>\n",
       "  <tbody>\n",
       "    <tr>\n",
       "      <th>count</th>\n",
       "      <td>44689</td>\n",
       "      <td>44689</td>\n",
       "      <td>44689</td>\n",
       "      <td>44689</td>\n",
       "      <td>44689</td>\n",
       "    </tr>\n",
       "    <tr>\n",
       "      <th>unique</th>\n",
       "      <td>38729</td>\n",
       "      <td>38646</td>\n",
       "      <td>8</td>\n",
       "      <td>2397</td>\n",
       "      <td>2</td>\n",
       "    </tr>\n",
       "    <tr>\n",
       "      <th>top</th>\n",
       "      <td>Factbox: Trump fills top jobs for his administ...</td>\n",
       "      <td></td>\n",
       "      <td>politicsNews</td>\n",
       "      <td>December 6, 2017</td>\n",
       "      <td>fake</td>\n",
       "    </tr>\n",
       "    <tr>\n",
       "      <th>freq</th>\n",
       "      <td>14</td>\n",
       "      <td>627</td>\n",
       "      <td>11220</td>\n",
       "      <td>166</td>\n",
       "      <td>23478</td>\n",
       "    </tr>\n",
       "  </tbody>\n",
       "</table>\n",
       "</div>"
      ],
      "text/plain": [
       "                                                    title   text  \\\n",
       "count                                               44689  44689   \n",
       "unique                                              38729  38646   \n",
       "top     Factbox: Trump fills top jobs for his administ...          \n",
       "freq                                                   14    627   \n",
       "\n",
       "             subject               date  label  \n",
       "count          44689              44689  44689  \n",
       "unique             8               2397      2  \n",
       "top     politicsNews  December 6, 2017    fake  \n",
       "freq           11220                166  23478  "
      ]
     },
     "execution_count": 18,
     "metadata": {},
     "output_type": "execute_result"
    }
   ],
   "source": [
    "final_df.describe(include=['object','int64'])"
   ]
  },
  {
   "cell_type": "code",
   "execution_count": 19,
   "id": "11a7206b",
   "metadata": {},
   "outputs": [
    {
     "data": {
      "text/plain": [
       "politicsNews       11220\n",
       "worldnews           9991\n",
       "News                9050\n",
       "politics            6838\n",
       "left-news           4459\n",
       "Government News     1570\n",
       "US_News              783\n",
       "Middle-east          778\n",
       "Name: subject, dtype: int64"
      ]
     },
     "execution_count": 19,
     "metadata": {},
     "output_type": "execute_result"
    }
   ],
   "source": [
    "final_df['subject'].value_counts()"
   ]
  },
  {
   "cell_type": "code",
   "execution_count": 20,
   "id": "14980db1",
   "metadata": {},
   "outputs": [],
   "source": [
    "# Step 1: Remove problematic entries like URLs\n",
    "final_df = final_df[~final_df['date'].str.contains('http', na=False)]\n",
    "\n",
    "# Step 2: Strip any extra whitespace\n",
    "final_df['date'] = final_df['date'].str.strip()\n",
    "\n",
    "# Step 3: Convert to datetime, with error handling\n",
    "final_df['date'] = pd.to_datetime(final_df['date'], errors='coerce')\n",
    "\n",
    "# Step 4 (Optional): Drop rows where date couldn’t be parsed\n",
    "final_df = final_df.dropna(subset=['date'])\n"
   ]
  },
  {
   "cell_type": "code",
   "execution_count": 21,
   "id": "d103116b",
   "metadata": {},
   "outputs": [],
   "source": [
    "final_df['dayofweek']=final_df['date'].dt.dayofweek"
   ]
  },
  {
   "cell_type": "code",
   "execution_count": 22,
   "id": "66f9d0d7",
   "metadata": {},
   "outputs": [
    {
     "data": {
      "image/png": "[encoded data removed]",
      "text/plain": [
       "<Figure size 1000x600 with 1 Axes>"
      ]
     },
     "metadata": {},
     "output_type": "display_data"
    }
   ],
   "source": [
    "# Plot\n",
    "stacked_data=pd.crosstab(final_df['dayofweek'],final_df['label'])\n",
    "stacked_data.plot(kind='bar', stacked=True, figsize=(10, 6))\n",
    "\n",
    "plt.title('Distribution of News Articles by Day Of Week')\n",
    "plt.xlabel('DayOfWeek')\n",
    "plt.ylabel('Number of Articles')\n",
    "plt.legend(title='Label')\n",
    "plt.tight_layout()\n",
    "plt.show()"
   ]
  },
  {
   "cell_type": "code",
   "execution_count": 23,
   "id": "ad0cdfe9",
   "metadata": {},
   "outputs": [
    {
     "data": {
      "image/png": "[encoded data removed]",
      "text/plain": [
       "<Figure size 1000x600 with 1 Axes>"
      ]
     },
     "metadata": {},
     "output_type": "display_data"
    }
   ],
   "source": [
    "stacked_data_sub=pd.crosstab(final_df['subject'],final_df['label'])\n",
    "stacked_data_sub.plot(kind='bar', stacked=True, figsize=(10, 6))\n",
    "\n",
    "plt.title('Distribution of News Articles by Day Of Week')\n",
    "plt.xlabel('DayOfWeek')\n",
    "plt.ylabel('Number of Articles')\n",
    "plt.legend(title='Label')\n",
    "plt.tight_layout()\n",
    "plt.show()"
   ]
  },
  {
   "cell_type": "code",
   "execution_count": 24,
   "id": "5ff4dcf4",
   "metadata": {},
   "outputs": [],
   "source": [
    "#Encoding of target\n",
    "final_df['label']=final_df['label'].map({'fake':1,'true':0})"
   ]
  },
  {
   "cell_type": "code",
   "execution_count": 25,
   "id": "a545b424",
   "metadata": {},
   "outputs": [],
   "source": [
    "# Step 1: Compute mean label per subject\n",
    "subject_map = final_df.groupby('subject')['label'].mean()\n",
    "\n",
    "# Step 2: Assign mapped values back to original DataFrame\n",
    "final_df['subject_num'] = final_df['subject'].map(subject_map)"
   ]
  },
  {
   "cell_type": "code",
   "execution_count": 26,
   "id": "780503e9",
   "metadata": {
    "scrolled": true
   },
   "outputs": [
    {
     "name": "stderr",
     "output_type": "stream",
     "text": [
      "[nltk_data] Downloading package punkt to\n",
      "[nltk_data]     C:\\Users\\abhi0\\AppData\\Roaming\\nltk_data...\n",
      "[nltk_data]   Package punkt is already up-to-date!\n",
      "[nltk_data] Downloading package punkt_tab to\n",
      "[nltk_data]     C:\\Users\\abhi0\\AppData\\Roaming\\nltk_data...\n",
      "[nltk_data]   Package punkt_tab is already up-to-date!\n",
      "[nltk_data] Downloading package stopwords to\n",
      "[nltk_data]     C:\\Users\\abhi0\\AppData\\Roaming\\nltk_data...\n",
      "[nltk_data]   Package stopwords is already up-to-date!\n"
     ]
    }
   ],
   "source": [
    "import re, nltk\n",
    "nltk.download('punkt')\n",
    "nltk.download('punkt_tab')\n",
    "nltk.download('stopwords')\n",
    "from nltk import word_tokenize\n",
    "from nltk.corpus import stopwords"
   ]
  },
  {
   "cell_type": "code",
   "execution_count": 27,
   "id": "8b93894b",
   "metadata": {},
   "outputs": [],
   "source": [
    "stpwrd_eng = stopwords.words(\"english\")"
   ]
  },
  {
   "cell_type": "code",
   "execution_count": 28,
   "id": "6bf42292",
   "metadata": {},
   "outputs": [],
   "source": [
    "def clean_message(s):\n",
    "    # lower casing\n",
    "    s=s.lower()\n",
    "    # remove punctuations\n",
    "    s=re.sub('[^\\w\\s]',\"\",s)\n",
    "    # removing stopwords\n",
    "    s=word_tokenize(s)\n",
    "    s=[w for w in s if w not in stpwrd_eng]\n",
    "    \n",
    "    s=\" \".join(s)\n",
    "    return s"
   ]
  },
  {
   "cell_type": "code",
   "execution_count": 29,
   "id": "d35db5c1",
   "metadata": {},
   "outputs": [],
   "source": [
    "final_df['title']=final_df['title'].apply(clean_message)\n",
    "final_df['text']=final_df['text'].apply(clean_message)"
   ]
  },
  {
   "cell_type": "code",
   "execution_count": 30,
   "id": "52f46240",
   "metadata": {},
   "outputs": [],
   "source": [
    "final_df['combined_text']=final_df['text']+' '+final_df['title']"
   ]
  },
  {
   "cell_type": "code",
   "execution_count": 31,
   "id": "bf12b2bc",
   "metadata": {},
   "outputs": [],
   "source": [
    "from sklearn.model_selection import train_test_split\n",
    "X_train_raw,X_test_raw,y_train,y_test=train_test_split(final_df[['combined_text', 'subject_num', 'dayofweek']],final_df['label'],test_size=0.2,random_state=42)"
   ]
  },
  {
   "cell_type": "code",
   "execution_count": 32,
   "id": "f24ba57d",
   "metadata": {},
   "outputs": [],
   "source": [
    "#Count Vectorization\n",
    "from sklearn.feature_extraction.text import CountVectorizer\n",
    "\n",
    "vectorizer = CountVectorizer()\n",
    "X_train_text  = vectorizer.fit_transform(X_train_raw['combined_text'])\n",
    "X_test_text  = vectorizer.transform(X_test_raw['combined_text'])"
   ]
  },
  {
   "cell_type": "code",
   "execution_count": 33,
   "id": "70cbe651",
   "metadata": {},
   "outputs": [],
   "source": [
    "#combine token text columns with categorical columns\n",
    "from scipy.sparse import hstack\n",
    "\n",
    "X_train = hstack([X_train_text, np.array(X_train_raw[['subject_num', 'dayofweek']])])\n",
    "X_test = hstack([X_test_text, np.array(X_test_raw[['subject_num', 'dayofweek']])])"
   ]
  },
  {
   "cell_type": "code",
   "execution_count": 34,
   "id": "e0884e40",
   "metadata": {},
   "outputs": [
    {
     "data": {
      "text/plain": [
       "0.9681065353625783"
      ]
     },
     "execution_count": 34,
     "metadata": {},
     "output_type": "execute_result"
    }
   ],
   "source": [
    "#train the multinomial naive bayes model\n",
    "from sklearn.naive_bayes import MultinomialNB\n",
    "\n",
    "mnb = MultinomialNB()\n",
    "mnb.fit(X_train,y_train)\n",
    "mnb.score(X_test,y_test)"
   ]
  },
  {
   "cell_type": "code",
   "execution_count": 35,
   "id": "4e7789e0",
   "metadata": {},
   "outputs": [
    {
     "name": "stdout",
     "output_type": "stream",
     "text": [
      "Evaluation Metrics are:\n",
      "Accuracy:0.9681\n",
      "Precision:0.9677\n",
      "Recall:0.972\n",
      "F1 Score:0.9698\n"
     ]
    }
   ],
   "source": [
    "from sklearn.metrics import accuracy_score, precision_score, recall_score, f1_score\n",
    "\n",
    "y_pred=mnb.predict(X_test)\n",
    "print(\"Evaluation Metrics are:\")\n",
    "print(f\"Accuracy:{round(accuracy_score(y_test,y_pred),4)}\")\n",
    "print(f\"Precision:{round(precision_score(y_test,y_pred),4)}\")\n",
    "print(f\"Recall:{round(recall_score(y_test,y_pred),4)}\")\n",
    "print(f\"F1 Score:{round(f1_score(y_test,y_pred),4)}\")"
   ]
  },
  {
   "cell_type": "markdown",
   "id": "66a38218",
   "metadata": {},
   "source": [
    "#### Vectorization using TfidfVectorizer"
   ]
  },
  {
   "cell_type": "code",
   "execution_count": 36,
   "id": "99768a50",
   "metadata": {},
   "outputs": [],
   "source": [
    "#Count Vectorization\n",
    "from sklearn.feature_extraction.text import TfidfVectorizer\n",
    "\n",
    "vectorizer = TfidfVectorizer(max_features=5000,stop_words='english')\n",
    "X_train_text  = vectorizer.fit_transform(X_train_raw['combined_text'])\n",
    "X_test_text  = vectorizer.transform(X_test_raw['combined_text'])"
   ]
  },
  {
   "cell_type": "code",
   "execution_count": 37,
   "id": "589dfa03",
   "metadata": {},
   "outputs": [],
   "source": [
    "#combine token text columns with categorical columns\n",
    "from scipy.sparse import hstack\n",
    "\n",
    "X_train = hstack([X_train_text, np.array(X_train_raw[['subject_num', 'dayofweek']])])\n",
    "X_test = hstack([X_test_text, np.array(X_test_raw[['subject_num', 'dayofweek']])])"
   ]
  },
  {
   "cell_type": "markdown",
   "id": "048ab838",
   "metadata": {},
   "source": [
    "#### Hyperparameter Tuning using Cross Validation"
   ]
  },
  {
   "cell_type": "code",
   "execution_count": 38,
   "id": "f1fbabc0",
   "metadata": {},
   "outputs": [
    {
     "name": "stdout",
     "output_type": "stream",
     "text": [
      "Fitting 5 folds for each of 5 candidates, totalling 25 fits\n",
      "Best Parameters are :{'alpha': 5.0}\n",
      "Best Score is (cross-validated) :0.9857835462497821\n",
      "Test Accuracy :0.9856709549210333\n"
     ]
    }
   ],
   "source": [
    "#train the multinomial naive bayes model\n",
    "from sklearn.model_selection import GridSearchCV\n",
    "\n",
    "# Base model\n",
    "model=MultinomialNB()\n",
    "\n",
    "# Parameter grid\n",
    "param_grid={'alpha':[0.0,0.5,1.0,2.0,5.0]}\n",
    "\n",
    "# GridSearchCV setup\n",
    "grid=GridSearchCV(model,param_grid,cv=5,scoring='f1',verbose=1,n_jobs=-1)\n",
    "\n",
    "# Fit on training data\n",
    "grid.fit(X_train,y_train)\n",
    "\n",
    "# Evaluate\n",
    "print(f\"Best Parameters are :{grid.best_params_}\")\n",
    "print(f\"Best Score is (cross-validated) :{grid.best_score_}\")  \n",
    "print(f\"Test Accuracy :{grid.score(X_test,y_test)}\")"
   ]
  },
  {
   "cell_type": "code",
   "execution_count": 39,
   "id": "bbc32808",
   "metadata": {},
   "outputs": [
    {
     "data": {
      "text/plain": [
       "0.9846687555953447"
      ]
     },
     "execution_count": 39,
     "metadata": {},
     "output_type": "execute_result"
    }
   ],
   "source": [
    "mnb1 = MultinomialNB(alpha=5.0)\n",
    "mnb1.fit(X_train,y_train)\n",
    "mnb1.score(X_test,y_test)"
   ]
  },
  {
   "cell_type": "code",
   "execution_count": 40,
   "id": "cc8098a6",
   "metadata": {},
   "outputs": [
    {
     "name": "stdout",
     "output_type": "stream",
     "text": [
      "Evaluation Metrics are:\n",
      "Accuracy:0.9847\n",
      "Precision:0.9717\n",
      "Recall:1.0\n",
      "F1 Score:0.9857\n"
     ]
    }
   ],
   "source": [
    "from sklearn.metrics import accuracy_score, precision_score, recall_score, f1_score\n",
    "\n",
    "# Predict on the test set\n",
    "y_pred=mnb1.predict(X_test)\n",
    "\n",
    "#Evaluation metrics\n",
    "print(\"Evaluation Metrics are:\")\n",
    "print(f\"Accuracy:{round(accuracy_score(y_test,y_pred),4)}\")\n",
    "print(f\"Precision:{round(precision_score(y_test,y_pred),4)}\")\n",
    "print(f\"Recall:{round(recall_score(y_test,y_pred),4)}\")\n",
    "print(f\"F1 Score:{round(f1_score(y_test,y_pred),4)}\")"
   ]
  },
  {
   "cell_type": "code",
   "execution_count": 41,
   "id": "32d04a71",
   "metadata": {},
   "outputs": [
    {
     "data": {
      "image/png": "[encoded data removed]",
      "text/plain": [
       "<Figure size 640x480 with 2 Axes>"
      ]
     },
     "metadata": {},
     "output_type": "display_data"
    }
   ],
   "source": [
    "from sklearn.metrics import confusion_matrix, ConfusionMatrixDisplay, classification_report\n",
    "\n",
    "print(classification_report(y_test, y_pred, target_names=['True', 'Fake']))\n",
    "\n",
    "\n",
    "# Generate confusion matrix\n",
    "cm = confusion_matrix(y_test, y_pred, labels=[0, 1])  # 0 = true, 1 = fake\n",
    "\n",
    "# Display confusion matrix\n",
    "disp = ConfusionMatrixDisplay(confusion_matrix=cm, display_labels=['True', 'Fake'])\n",
    "disp.plot(cmap='Blues', values_format='d')\n",
    "\n",
    "plt.title('Confusion Matrix - Fake News Classifier')\n",
    "plt.show()\n"
   ]
  }
 ],
 "metadata": {
  "kernelspec": {
   "display_name": "Python 3 (ipykernel)",
   "language": "python",
   "name": "python3"
  },
  "language_info": {
   "codemirror_mode": {
    "name": "ipython",
    "version": 3
   },
   "file_extension": ".py",
   "mimetype": "text/x-python",
   "name": "python",
   "nbconvert_exporter": "python",
   "pygments_lexer": "ipython3",
   "version": "3.9.13"
  }
 },
 "nbformat": 4,
 "nbformat_minor": 5
}
